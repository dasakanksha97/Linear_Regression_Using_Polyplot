{
  "nbformat": 4,
  "nbformat_minor": 0,
  "metadata": {
    "colab": {
      "name": "Big Data Analytics Linear_Regression.ipynb",
      "provenance": [],
      "collapsed_sections": []
    },
    "kernelspec": {
      "name": "python3",
      "display_name": "Python 3"
    },
    "language_info": {
      "name": "python"
    }
  },
  "cells": [
    {
      "cell_type": "markdown",
      "source": [
        "#Linear Regression\n"
      ],
      "metadata": {
        "id": "yRAtSH7hZXhs"
      }
    },
    {
      "cell_type": "code",
      "execution_count": null,
      "metadata": {
        "colab": {
          "base_uri": "https://localhost:8080/",
          "height": 282
        },
        "id": "jiJyhME_LF1P",
        "outputId": "357000a2-5431-4c80-8009-4ce1b1b2fc0e"
      },
      "outputs": [
        {
          "output_type": "execute_result",
          "data": {
            "text/plain": [
              "[<matplotlib.lines.Line2D at 0x7f82c1245890>]"
            ]
          },
          "metadata": {},
          "execution_count": 1
        },
        {
          "output_type": "display_data",
          "data": {
            "text/plain": [
              "<Figure size 432x288 with 1 Axes>"
            ],
            "image/png": "[encoded data removed]"
          },
          "metadata": {
            "needs_background": "light"
          }
        }
      ],
      "source": [
        "import numpy as np\n",
        "import matplotlib.pyplot as plt\n",
        "noise = np.random.normal(0,1,10)\n",
        "x=(np.arange(10)-5)/2\n",
        "y=np.power(x,3)-np.power(x,2)+1+noise\n",
        "plt.plot(x,y)"
      ]
    },
    {
      "cell_type": "code",
      "source": [
        "x_sample = [3,2]\n",
        "y_feature = [3,4]\n",
        "calc = np.polyfit(x_sample,y_feature,1)\n",
        "print(f\"The linear equation is {calc}\")\n",
        " "
      ],
      "metadata": {
        "id": "l-iSXprUk9rI",
        "colab": {
          "base_uri": "https://localhost:8080/"
        },
        "outputId": "a5ef5546-cf8b-4006-e38c-e1ea0fee7b37"
      },
      "execution_count": null,
      "outputs": [
        {
          "output_type": "stream",
          "name": "stdout",
          "text": [
            "The linear equation is [-1.  6.]\n"
          ]
        }
      ]
    },
    {
      "cell_type": "markdown",
      "source": [
        "One Degree Polynomial"
      ],
      "metadata": {
        "id": "irc5xHnEOow1"
      }
    },
    {
      "cell_type": "code",
      "source": [
        "curve_1d = np.polyfit(x,y,1)\n",
        "print(f\"The one degree equation is {curve_1d}\")"
      ],
      "metadata": {
        "colab": {
          "base_uri": "https://localhost:8080/"
        },
        "id": "qP5x_dhwL6pZ",
        "outputId": "6dcb423f-cecf-430d-ad29-096820fc49cb"
      },
      "execution_count": null,
      "outputs": [
        {
          "output_type": "stream",
          "name": "stdout",
          "text": [
            "The one degree equation is [ 4.43667916 -1.17240058]\n"
          ]
        }
      ]
    },
    {
      "cell_type": "code",
      "source": [
        "poly_equation_1d = np.poly1d(curve_1d)\n",
        "print(poly_equation_1d)"
      ],
      "metadata": {
        "colab": {
          "base_uri": "https://localhost:8080/"
        },
        "id": "McgJlsdEOkHe",
        "outputId": "fbbdd660-7330-4961-f588-d9071bdf5adb"
      },
      "execution_count": null,
      "outputs": [
        {
          "output_type": "stream",
          "name": "stdout",
          "text": [
            " \n",
            "4.437 x - 1.172\n"
          ]
        }
      ]
    },
    {
      "cell_type": "code",
      "source": [
        "new_x1=[]\n",
        "new_y1=[]\n",
        "for i in range(len(x)):\n",
        "  new_x1.append(i+1)\n",
        "  solve1 = poly_equation_1d(i+1)\n",
        "  new_y1.append(solve1)"
      ],
      "metadata": {
        "id": "hTgmVkQpWq-s"
      },
      "execution_count": null,
      "outputs": []
    },
    {
      "cell_type": "markdown",
      "source": [
        "Two Degree Polynomial"
      ],
      "metadata": {
        "id": "hGMw8mWvO9JV"
      }
    },
    {
      "cell_type": "code",
      "source": [
        "curve_2d = np.polyfit(x,y,2)\n",
        "print(f\"The two degree equation is {curve_2d}\")"
      ],
      "metadata": {
        "colab": {
          "base_uri": "https://localhost:8080/"
        },
        "id": "iP5KiYwNO1wk",
        "outputId": "1ee1cab2-c541-4e11-e9d9-634a3a64fbd5"
      },
      "execution_count": null,
      "outputs": [
        {
          "output_type": "stream",
          "name": "stdout",
          "text": [
            "The two degree equation is [-1.8536871   3.50983561  2.53497362]\n"
          ]
        }
      ]
    },
    {
      "cell_type": "code",
      "source": [
        "poly_equation_2d = np.poly1d(curve_2d)\n",
        "print(poly_equation_2d)"
      ],
      "metadata": {
        "colab": {
          "base_uri": "https://localhost:8080/"
        },
        "id": "QwI_oBbrPErk",
        "outputId": "ff63bea9-4669-4344-add9-4986b4d9f8ea"
      },
      "execution_count": null,
      "outputs": [
        {
          "output_type": "stream",
          "name": "stdout",
          "text": [
            "        2\n",
            "-1.854 x + 3.51 x + 2.535\n"
          ]
        }
      ]
    },
    {
      "cell_type": "code",
      "source": [
        "new_x2=[]\n",
        "new_y2=[]\n",
        "for i in range(len(x)):\n",
        "  new_x2.append(i+1)\n",
        "  solve2 = poly_equation_2d(i+1)\n",
        "  new_y2.append(solve2)"
      ],
      "metadata": {
        "id": "nW90z2pfXNp5"
      },
      "execution_count": null,
      "outputs": []
    },
    {
      "cell_type": "markdown",
      "source": [
        "Three Degree Polynomial"
      ],
      "metadata": {
        "id": "UhZX8PwbPVzs"
      }
    },
    {
      "cell_type": "code",
      "source": [
        "curve_3d = np.polyfit(x,y,3)\n",
        "print(f\"The three degree equation is {curve_3d}\")"
      ],
      "metadata": {
        "colab": {
          "base_uri": "https://localhost:8080/"
        },
        "id": "lZgTMXi9PUYT",
        "outputId": "90bd04be-ef57-4910-ea99-b735d5c7cead"
      },
      "execution_count": null,
      "outputs": [
        {
          "output_type": "stream",
          "name": "stdout",
          "text": [
            "The three degree equation is [ 0.69978303 -1.32884983  1.07808957  1.90516889]\n"
          ]
        }
      ]
    },
    {
      "cell_type": "code",
      "source": [
        "poly_equation_3d = np.poly1d(curve_3d)\n",
        "print(poly_equation_3d)"
      ],
      "metadata": {
        "colab": {
          "base_uri": "https://localhost:8080/"
        },
        "id": "obNMCi2ZPa61",
        "outputId": "d391e4b3-d82c-461e-abd7-6d18d9f6c544"
      },
      "execution_count": null,
      "outputs": [
        {
          "output_type": "stream",
          "name": "stdout",
          "text": [
            "        3         2\n",
            "0.6998 x - 1.329 x + 1.078 x + 1.905\n"
          ]
        }
      ]
    },
    {
      "cell_type": "code",
      "source": [
        "new_x3=[]\n",
        "new_y3=[]\n",
        "for i in range(len(x)):\n",
        "  new_x3.append(i+1)\n",
        "  solve3 = poly_equation_3d(i+1)\n",
        "  new_y3.append(solve3)"
      ],
      "metadata": {
        "id": "jaR0SfRzXbnl"
      },
      "execution_count": null,
      "outputs": []
    },
    {
      "cell_type": "markdown",
      "source": [
        "Fourth Degree Polynomial"
      ],
      "metadata": {
        "id": "gTLmTYpxPl5b"
      }
    },
    {
      "cell_type": "code",
      "source": [
        "curve_4d = np.polyfit(x,y,4)\n",
        "print(f\"The fourth degree equaion is {curve_4d}\")"
      ],
      "metadata": {
        "colab": {
          "base_uri": "https://localhost:8080/"
        },
        "id": "X-MBtxssPtoS",
        "outputId": "948639fe-5f7b-4995-af47-20769e670d29"
      },
      "execution_count": null,
      "outputs": [
        {
          "output_type": "stream",
          "name": "stdout",
          "text": [
            "The fourth degree equaion is [-0.0503019   0.64948113 -1.08991578  1.20384433  1.76935375]\n"
          ]
        }
      ]
    },
    {
      "cell_type": "code",
      "source": [
        "poly_equation_4d = np.poly1d(curve_4d)\n",
        "print(poly_equation_4d)"
      ],
      "metadata": {
        "colab": {
          "base_uri": "https://localhost:8080/"
        },
        "id": "FXw-RlEAPuhw",
        "outputId": "80835daa-f125-4a2f-f375-842a681c97b3"
      },
      "execution_count": null,
      "outputs": [
        {
          "output_type": "stream",
          "name": "stdout",
          "text": [
            "         4          3        2\n",
            "-0.0503 x + 0.6495 x - 1.09 x + 1.204 x + 1.769\n"
          ]
        }
      ]
    },
    {
      "cell_type": "code",
      "source": [
        "new_x4=[]\n",
        "new_y4=[]\n",
        "for i in range(len(x)):\n",
        "  new_x4.append(i+1)\n",
        "  solve4 = poly_equation_4d(i+1)\n",
        "  new_y4.append(solve4)"
      ],
      "metadata": {
        "id": "zFbuk9-kXk-5"
      },
      "execution_count": null,
      "outputs": []
    },
    {
      "cell_type": "markdown",
      "source": [
        "Fifth Degree Polynomial"
      ],
      "metadata": {
        "id": "Zm2kwiwlQCof"
      }
    },
    {
      "cell_type": "code",
      "source": [
        "curve_5d = np.polyfit(x,y,5)\n",
        "print(f\"The fifth degree equation is {curve_5d}\")"
      ],
      "metadata": {
        "colab": {
          "base_uri": "https://localhost:8080/"
        },
        "id": "UtJx0JbMQFSo",
        "outputId": "6f83c1ae-8a77-495a-a246-e18e21636db4"
      },
      "execution_count": null,
      "outputs": [
        {
          "output_type": "stream",
          "name": "stdout",
          "text": [
            "The fifth degree equation is [ 0.07577024  0.04441089  0.20748807 -1.44508877  1.71213635  1.91142295]\n"
          ]
        }
      ]
    },
    {
      "cell_type": "code",
      "source": [
        "poly_equation_5d = np.poly1d(curve_5d)\n",
        "print(poly_equation_5d)"
      ],
      "metadata": {
        "colab": {
          "base_uri": "https://localhost:8080/"
        },
        "id": "YJ4XXcNuQIL4",
        "outputId": "b85cba69-259a-46f1-c633-dbea59455690"
      },
      "execution_count": null,
      "outputs": [
        {
          "output_type": "stream",
          "name": "stdout",
          "text": [
            "         5           4          3         2\n",
            "0.07577 x + 0.04441 x + 0.2075 x - 1.445 x + 1.712 x + 1.911\n"
          ]
        }
      ]
    },
    {
      "cell_type": "code",
      "source": [
        "new_x5=[]\n",
        "new_y5=[]\n",
        "for i in range(len(x)):\n",
        "  new_x5.append(i+1)\n",
        "  solve5 = poly_equation_5d(i+1)\n",
        "  new_y5.append(solve5)"
      ],
      "metadata": {
        "id": "_l3i6iKDXvFk"
      },
      "execution_count": null,
      "outputs": []
    },
    {
      "cell_type": "code",
      "source": [
        "plt.figure(figsize=(8,8))\n",
        "plt.plot(x,y,color='k')\n",
        "plt.plot(new_x1,new_y1,color='r')\n",
        "plt.plot(new_x2,new_y2,color='g')\n",
        "plt.plot(new_x3,new_y3,color='c')\n",
        "plt.plot(new_x4,new_y4,color='m')\n",
        "plt.plot(new_x5,new_y5,color='y')"
      ],
      "metadata": {
        "colab": {
          "base_uri": "https://localhost:8080/",
          "height": 500
        },
        "id": "C0HfuxAgUh0v",
        "outputId": "ce1bab14-a925-48f9-8a29-52a79c2912ac"
      },
      "execution_count": 19,
      "outputs": [
        {
          "output_type": "execute_result",
          "data": {
            "text/plain": [
              "[<matplotlib.lines.Line2D at 0x7f82be255050>]"
            ]
          },
          "metadata": {},
          "execution_count": 19
        },
        {
          "output_type": "display_data",
          "data": {
            "text/plain": [
              "<Figure size 576x576 with 1 Axes>"
            ],
            "image/png": "[encoded data removed]"
          },
          "metadata": {
            "needs_background": "light"
          }
        }
      ]
    },
    {
      "cell_type": "code",
      "source": [
        ""
      ],
      "metadata": {
        "id": "c6_MUmfmUx0O"
      },
      "execution_count": null,
      "outputs": []
    }
  ]
}